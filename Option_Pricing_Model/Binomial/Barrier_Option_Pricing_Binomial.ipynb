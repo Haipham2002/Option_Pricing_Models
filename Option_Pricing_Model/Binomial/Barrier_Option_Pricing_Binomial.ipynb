{
 "cells": [
  {
   "cell_type": "markdown",
   "id": "cd1c90de-add7-4008-8d89-d567fafb99b1",
   "metadata": {},
   "source": [
    "# Barrier Options with Binomial Trees\n",
    "Barrier Options with the Binomial Asset Pricing Model\r\n",
    "\r\n",
    "Implementation of a simple slow and fast barrier tree pricing model in python. We will treat binomial tree as a network with nodes (i,j) with i representing the time steps and j representing the number of ordered price outcome (lowest - or bottom of tree - to highest).\r\n",
    "\r\n",
    "barrier_tree_slow\r\n",
    "\r\n",
    "barrier_tree_fast\r\n",
    "\r\n",
    "We will be using a generic timing wrapper function to judge the time performance of using numpy arrays over for loops to iterate over j nodes in each time step i. Please note if you do not want to use the timing wrapper, please still import numpy!"
   ]
  },
  {
   "cell_type": "code",
   "execution_count": 2,
   "id": "252a2f01-fb76-4fae-aaae-705765f30c83",
   "metadata": {},
   "outputs": [],
   "source": [
    "import numpy as np\n",
    "\n",
    "from functools import wraps\n",
    "from time import time\n",
    "\n",
    "def timing(f):\n",
    "    @wraps(f)\n",
    "    def wrap(*args, **kw):\n",
    "        ts = time()\n",
    "        result = f(*args, **kw)\n",
    "        te = time()\n",
    "        print('func:%r args:[%r, %r] took: %2.4f sec' % \\\n",
    "          (f.__name__, args, kw, te-ts))\n",
    "        return result\n",
    "    return wrap"
   ]
  },
  {
   "cell_type": "markdown",
   "id": "6518ed05-df24-446f-a8e6-380f65eab70a",
   "metadata": {},
   "source": [
    "# Binomial Tree Representation\n",
    "Stock tree can be repressented using nodes (i,j) and inital stock price S0\n",
    "Si,j = S0.u^(i).d(i-j)\n",
    "Ci,j represents contract price at each node (i,j)."
   ]
  },
  {
   "cell_type": "markdown",
   "id": "a4e7c9b9-8a25-47ed-9cbb-80b4fbc57233",
   "metadata": {},
   "source": [
    "# Barrier Option Characteristics"
   ]
  },
  {
   "cell_type": "code",
   "execution_count": 5,
   "id": "badb7896-b801-4ed4-bcb7-66df54792e41",
   "metadata": {},
   "outputs": [],
   "source": [
    "# Initialise parameters\n",
    "S0 = 100      # initial stock price\n",
    "K = 100       # strike price\n",
    "T = 1         # time to maturity in years\n",
    "H = 125       # up-and-out barrier price/value\n",
    "r = 0.06      # annual risk-free rate\n",
    "N = 3         # number of time steps\n",
    "u = 1.1       # up-factor in binomial models\n",
    "d = 1/u       # ensure recombining tree\n",
    "opttype = 'C' # Option Type 'C' or 'P'"
   ]
  },
  {
   "cell_type": "markdown",
   "id": "6b6fdda6-76f4-447d-8692-4c90082481d9",
   "metadata": {},
   "source": [
    "# Barrier Tree (Using loops and array)\n",
    "Here we will use for loops to iterate through nodes j at each time step i."
   ]
  },
  {
   "cell_type": "code",
   "execution_count": 7,
   "id": "170f6dbe-80bb-495b-8100-2f80c748c073",
   "metadata": {},
   "outputs": [
    {
     "name": "stdout",
     "output_type": "stream",
     "text": [
      "func:'barrier_tree' args:[(100, 1, 100, 125, 0.06, 3, 1.1, 0.9090909090909091), {'opttype': 'C'}] took: 0.0000 sec\n"
     ]
    },
    {
     "data": {
      "text/plain": [
       "4.00026736854323"
      ]
     },
     "execution_count": 7,
     "metadata": {},
     "output_type": "execute_result"
    }
   ],
   "source": [
    "@timing\n",
    "def barrier_tree(K,T,S0,H,r,N,u,d,opttype='C'):\n",
    "    #precompute values\n",
    "    dt = T/N\n",
    "    q = (np.exp(r*dt) - d)/(u-d)\n",
    "    disc = np.exp(-r*dt)\n",
    "\n",
    "    # initialise asset prices at maturity\n",
    "    S = np.zeros(N+1)\n",
    "    for j in range(0,N+1):\n",
    "        S[j] = S0 * u**j * d**(N-j)\n",
    "\n",
    "    # option payoff\n",
    "    C = np.zeros(N+1)\n",
    "    for j in range(0,N+1):\n",
    "        if opttype == 'C':\n",
    "            C[j] = max(0, S[j] - K)\n",
    "        else:\n",
    "            C[j] = max(0, K - S[j])\n",
    "\n",
    "    # check terminal condition payoff\n",
    "    for j in range(0, N+1):\n",
    "        S = S0 * u**j * d**(N-j)\n",
    "        if S >= H:\n",
    "            C[j] = 0\n",
    "\n",
    "    # backward recursion through the tree\n",
    "    for i in np.arange(N-1,-1,-1):\n",
    "        for j in range(0,i+1):\n",
    "            S = S0 * u**j * d**(i-j)\n",
    "            if S >= H:\n",
    "                C[j] = 0\n",
    "            else:\n",
    "                C[j] = disc * (q*C[j+1]+(1-q)*C[j])\n",
    "    return C[0]\n",
    "\n",
    "barrier_tree(K,T,S0,H,r,N,u,d,opttype='C')"
   ]
  },
  {
   "cell_type": "markdown",
   "id": "11f6a6c8-64cd-4f43-85da-557a6e255892",
   "metadata": {},
   "source": [
    "# Barrier Tree (vectorize)\n",
    "Now we will vectorise out code using numpy arrays instead of for loops through j nodes."
   ]
  },
  {
   "cell_type": "code",
   "execution_count": 9,
   "id": "1b3a4487-ca8a-48e3-853c-9e4d46294b36",
   "metadata": {},
   "outputs": [
    {
     "name": "stdout",
     "output_type": "stream",
     "text": [
      "func:'barrier_tree2' args:[(100, 1, 100, 125, 0.06, 3, 1.1, 0.9090909090909091), {'opttype': 'C'}] took: 0.0000 sec\n"
     ]
    },
    {
     "data": {
      "text/plain": [
       "4.00026736854323"
      ]
     },
     "execution_count": 9,
     "metadata": {},
     "output_type": "execute_result"
    }
   ],
   "source": [
    "@timing\n",
    "def barrier_tree2(K,T,S0,H,r,N,u,d,opttype='C'):\n",
    "    #precompute values\n",
    "    dt = T/N\n",
    "    q = (np.exp(r*dt) - d)/(u-d)\n",
    "    disc = np.exp(-r*dt)\n",
    "\n",
    "    # initialise asset prices at maturity\n",
    "    S = S0 * d**(np.arange(N,-1,-1)) * u**(np.arange(0,N+1,1))\n",
    "\n",
    "    # option payoff\n",
    "    if opttype == 'C':\n",
    "        C = np.maximum( S - K, 0 )\n",
    "    else:\n",
    "        C = np.maximum( K - S, 0 )\n",
    "\n",
    "    # check terminal condition payoff\n",
    "    C[S >= H] = 0\n",
    "\n",
    "    # backward recursion through the tree\n",
    "    for i in np.arange(N-1,-1,-1):\n",
    "        S = S0 * d**(np.arange(i,-1,-1)) * u**(np.arange(0,i+1,1))\n",
    "        C[:i+1] = disc * ( q * C[1:i+2] + (1-q) * C[0:i+1] )\n",
    "        C = C[:-1]\n",
    "        C[S >= H] = 0\n",
    "    return C[0]\n",
    "\n",
    "barrier_tree2(K,T,S0,H,r,N,u,d,opttype='C')"
   ]
  },
  {
   "cell_type": "markdown",
   "id": "668f757b-0474-4290-928b-706d1784f86f",
   "metadata": {},
   "source": [
    "# Compare 2 algorithms\n",
    "Now we will compare runtimes of 2 algorithms. Ignore option price changes as this is impacted with changing the time steps and keeping the u and d factors the same."
   ]
  },
  {
   "cell_type": "code",
   "execution_count": 11,
   "id": "7db124e6-d740-4a18-9cb7-749e3873a9eb",
   "metadata": {
    "scrolled": true
   },
   "outputs": [
    {
     "name": "stdout",
     "output_type": "stream",
     "text": [
      "func:'barrier_tree' args:[(100, 1, 100, 125, 0.06, 3, 1.1, 0.9090909090909091), {'opttype': 'C'}] took: 0.0000 sec\n",
      "func:'barrier_tree2' args:[(100, 1, 100, 125, 0.06, 3, 1.1, 0.9090909090909091), {'opttype': 'C'}] took: 0.0000 sec\n",
      "func:'barrier_tree' args:[(100, 1, 100, 125, 0.06, 50, 1.1, 0.9090909090909091), {'opttype': 'C'}] took: 0.0020 sec\n",
      "func:'barrier_tree2' args:[(100, 1, 100, 125, 0.06, 50, 1.1, 0.9090909090909091), {'opttype': 'C'}] took: 0.0020 sec\n",
      "func:'barrier_tree' args:[(100, 1, 100, 125, 0.06, 100, 1.1, 0.9090909090909091), {'opttype': 'C'}] took: 0.0101 sec\n",
      "func:'barrier_tree2' args:[(100, 1, 100, 125, 0.06, 100, 1.1, 0.9090909090909091), {'opttype': 'C'}] took: 0.0030 sec\n",
      "func:'barrier_tree' args:[(100, 1, 100, 125, 0.06, 1000, 1.1, 0.9090909090909091), {'opttype': 'C'}] took: 1.0039 sec\n",
      "func:'barrier_tree2' args:[(100, 1, 100, 125, 0.06, 1000, 1.1, 0.9090909090909091), {'opttype': 'C'}] took: 0.0446 sec\n",
      "func:'barrier_tree' args:[(100, 1, 100, 125, 0.06, 5000, 1.1, 0.9090909090909091), {'opttype': 'C'}] took: 25.0195 sec\n",
      "func:'barrier_tree2' args:[(100, 1, 100, 125, 0.06, 5000, 1.1, 0.9090909090909091), {'opttype': 'C'}] took: 0.7699 sec\n"
     ]
    }
   ],
   "source": [
    "for N in [3,50, 100, 1000, 5000]:\n",
    "    barrier_tree(K,T,S0,H,r,N,u,d,opttype='C')\n",
    "    barrier_tree2(K,T,S0,H,r,N,u,d,opttype='C')"
   ]
  },
  {
   "cell_type": "code",
   "execution_count": null,
   "id": "1afa37f5-ee68-436e-9ef3-f7083bb2341f",
   "metadata": {},
   "outputs": [],
   "source": []
  }
 ],
 "metadata": {
  "kernelspec": {
   "display_name": "Python 3 (ipykernel)",
   "language": "python",
   "name": "python3"
  },
  "language_info": {
   "codemirror_mode": {
    "name": "ipython",
    "version": 3
   },
   "file_extension": ".py",
   "mimetype": "text/x-python",
   "name": "python",
   "nbconvert_exporter": "python",
   "pygments_lexer": "ipython3",
   "version": "3.12.4"
  }
 },
 "nbformat": 4,
 "nbformat_minor": 5
}
