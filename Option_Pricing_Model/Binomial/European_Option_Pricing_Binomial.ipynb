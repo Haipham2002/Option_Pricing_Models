{
 "cells": [
  {
   "cell_type": "markdown",
   "id": "9b28a692-7c1a-4be2-bc99-021b299ab982",
   "metadata": {},
   "source": [
    "# BINOMIAL ASSET PRICING MODEL\n",
    "\n",
    "Implementation of a simple binomial pricing model in python. We will treat binomial tree as a network with nodes(i,j) with i representing the time steps and j representing the number of ordered price outcome (lowest - or bottom of tree - to highest)"
   ]
  },
  {
   "cell_type": "markdown",
   "id": "bd81a628-9696-499f-ac58-365cc59ca74d",
   "metadata": {},
   "source": [
    "# Generic timing wrapper function\n",
    "We will use this to benchmark the models"
   ]
  },
  {
   "cell_type": "code",
   "execution_count": 3,
   "id": "a9e908ff-a309-40c6-b017-c40b6b5489a9",
   "metadata": {},
   "outputs": [],
   "source": [
    "import numpy as np\n",
    "\n",
    "from functools import wraps\n",
    "from time import time\n",
    "\n",
    "def timing(f):\n",
    "    @wraps(f)\n",
    "    def wrap(*args, **kw):\n",
    "        ts = time()\n",
    "        result = f(*args, **kw)\n",
    "        te = time()\n",
    "        print('func:%r args:[%r, %r] took: %2.4f sec' % \\\n",
    "          (f.__name__, args, kw, te-ts)) \n",
    "        return result\n",
    "    return wrap"
   ]
  },
  {
   "cell_type": "markdown",
   "id": "b79260df-ef1c-4a0e-8b8f-3cdf619c3b83",
   "metadata": {},
   "source": [
    "# Binomial Tree Representatin\n"
   ]
  },
  {
   "cell_type": "code",
   "execution_count": 5,
   "id": "e7bf2145-410a-4d63-9ba1-403a4bc94dcd",
   "metadata": {},
   "outputs": [],
   "source": [
    "# Initialise parameters\n",
    "S0 = 100      # initial stock price\n",
    "K = 100       # strike price\n",
    "T = 1         # time to maturity in years\n",
    "r = 0.06      # annual risk-free rate\n",
    "N = 3         # number of time steps\n",
    "u = 1.1       # up-factor in binomial models\n",
    "d = 1/u       # ensure recombining tree\n",
    "opttype = 'C' # Option Type 'C' or 'P'"
   ]
  },
  {
   "cell_type": "markdown",
   "id": "d0839084-3941-4b59-8866-53d7d3e8d862",
   "metadata": {},
   "source": [
    "# Binomial Tree Implement (using arrray)\n",
    "Here we will use for loops to iterate through nodes j at each time step i"
   ]
  },
  {
   "cell_type": "code",
   "execution_count": 7,
   "id": "8ed139d0-bb91-425a-bc20-389d82504add",
   "metadata": {},
   "outputs": [
    {
     "name": "stdout",
     "output_type": "stream",
     "text": [
      "func:'binomial_tree' args:[(100, 1, 100, 0.06, 3, 1.1, 0.9090909090909091), {'opttype': 'C'}] took: 0.0000 sec\n"
     ]
    },
    {
     "data": {
      "text/plain": [
       "10.145735799928817"
      ]
     },
     "execution_count": 7,
     "metadata": {},
     "output_type": "execute_result"
    }
   ],
   "source": [
    "@timing\n",
    "def binomial_tree(K, T, S0, r, N, u, d, opttype = 'C'):\n",
    "    #precomute constants\n",
    "    dt = T/N\n",
    "    q = (np.exp(r*dt) - d) / (u-d)\n",
    "    disc = np.exp(-r*dt)\n",
    "    \n",
    "    # initialize asset prices at maturity - TIme step N\n",
    "    S = np.zeros(N+1)\n",
    "    S[0] = S0*d**N\n",
    "    for j in range(1,N+1):\n",
    "        S[j] = S[j-1]*u/d\n",
    "        \n",
    "    # initialize option values at maturity\n",
    "    C = np.zeros(N+1)\n",
    "    for j in range(0,N+1):\n",
    "        C[j] = max(0, S[j] - K)\n",
    "\n",
    "    # step backwards through tree\n",
    "    for i in np.arange(N,0,-1):\n",
    "        for j in range(0,i):\n",
    "            C[j] = disc * (q*C[j+1] + (1-q)*C[j])\n",
    "\n",
    "    return C[0]\n",
    "\n",
    "binomial_tree(K, T, S0, r, N, u, d, opttype = 'C')"
   ]
  },
  {
   "cell_type": "markdown",
   "id": "b250670a-67e2-494f-9f7f-c786759bc6cc",
   "metadata": {},
   "source": [
    "# Binomial Tree impelement (try to use another faster way)\n",
    "Now we will vectorise out code using numpy arrays instead of for loops through j nodes."
   ]
  },
  {
   "cell_type": "code",
   "execution_count": 9,
   "id": "8eac84a6-8645-4a34-9add-cbadcd0bdadd",
   "metadata": {},
   "outputs": [
    {
     "name": "stdout",
     "output_type": "stream",
     "text": [
      "func:'binomial_tree_fast' args:[(100, 1, 100, 0.06, 3, 1.1, 0.9090909090909091), {'opttype': 'C'}] took: 0.0010 sec\n"
     ]
    },
    {
     "data": {
      "text/plain": [
       "10.145735799928826"
      ]
     },
     "execution_count": 9,
     "metadata": {},
     "output_type": "execute_result"
    }
   ],
   "source": [
    "@timing\n",
    "def binomial_tree_fast(K,T,S0,r,N,u,d,opttype='C'):\n",
    "    #precompute constants\n",
    "    dt = T/N\n",
    "    q = (np.exp(r*dt) - d) / (u-d)\n",
    "    disc = np.exp(-r*dt)\n",
    "\n",
    "    # initialise asset prices at maturity - Time step N\n",
    "    C = S0 * d ** (np.arange(N,-1,-1)) * u ** (np.arange(0,N+1,1))\n",
    "\n",
    "    # initialise option values at maturity\n",
    "    C = np.maximum( C - K , np.zeros(N+1) )\n",
    "\n",
    "    # step backwards through tree\n",
    "    for i in np.arange(N,0,-1):\n",
    "        C = disc * ( q * C[1:i+1] + (1-q) * C[0:i] )\n",
    "\n",
    "    return C[0]\n",
    "\n",
    "binomial_tree_fast(K,T,S0,r,N,u,d,opttype='C')"
   ]
  },
  {
   "cell_type": "markdown",
   "id": "6379e689-5268-4840-a419-d08495334f45",
   "metadata": {},
   "source": [
    "# Compare 2 methods\n",
    "Now we will compare runtimes of two models. Ignore option price changes as this is impacted with changing the time steps and keeping the u and d factors the same"
   ]
  },
  {
   "cell_type": "code",
   "execution_count": 11,
   "id": "fff6fa91-0dc8-4f50-b4f5-dace83a4153c",
   "metadata": {},
   "outputs": [
    {
     "name": "stdout",
     "output_type": "stream",
     "text": [
      "func:'binomial_tree' args:[(100, 1, 100, 0.06, 3, 1.1, 0.9090909090909091), {'opttype': 'C'}] took: 0.0000 sec\n",
      "func:'binomial_tree_fast' args:[(100, 1, 100, 0.06, 3, 1.1, 0.9090909090909091), {'opttype': 'C'}] took: 0.0000 sec\n",
      "func:'binomial_tree' args:[(100, 1, 100, 0.06, 50, 1.1, 0.9090909090909091), {'opttype': 'C'}] took: 0.0010 sec\n",
      "func:'binomial_tree_fast' args:[(100, 1, 100, 0.06, 50, 1.1, 0.9090909090909091), {'opttype': 'C'}] took: 0.0010 sec\n",
      "func:'binomial_tree' args:[(100, 1, 100, 0.06, 100, 1.1, 0.9090909090909091), {'opttype': 'C'}] took: 0.0020 sec\n",
      "func:'binomial_tree_fast' args:[(100, 1, 100, 0.06, 100, 1.1, 0.9090909090909091), {'opttype': 'C'}] took: 0.0010 sec\n",
      "func:'binomial_tree' args:[(100, 1, 100, 0.06, 1000, 1.1, 0.9090909090909091), {'opttype': 'C'}] took: 0.2269 sec\n",
      "func:'binomial_tree_fast' args:[(100, 1, 100, 0.06, 1000, 1.1, 0.9090909090909091), {'opttype': 'C'}] took: 0.0070 sec\n",
      "func:'binomial_tree' args:[(100, 1, 100, 0.06, 5000, 1.1, 0.9090909090909091), {'opttype': 'C'}] took: 5.7743 sec\n",
      "func:'binomial_tree_fast' args:[(100, 1, 100, 0.06, 5000, 1.1, 0.9090909090909091), {'opttype': 'C'}] took: 0.0460 sec\n"
     ]
    }
   ],
   "source": [
    "for N in [3,50, 100, 1000, 5000]:\n",
    "    binomial_tree(K,T,S0,r,N,u,d,opttype='C')\n",
    "    binomial_tree_fast(K,T,S0,r,N,u,d,opttype='C')"
   ]
  },
  {
   "cell_type": "code",
   "execution_count": null,
   "id": "3c65ea61-4cf6-457d-afdd-e13762c608c6",
   "metadata": {},
   "outputs": [],
   "source": []
  }
 ],
 "metadata": {
  "kernelspec": {
   "display_name": "Python 3 (ipykernel)",
   "language": "python",
   "name": "python3"
  },
  "language_info": {
   "codemirror_mode": {
    "name": "ipython",
    "version": 3
   },
   "file_extension": ".py",
   "mimetype": "text/x-python",
   "name": "python",
   "nbconvert_exporter": "python",
   "pygments_lexer": "ipython3",
   "version": "3.12.4"
  }
 },
 "nbformat": 4,
 "nbformat_minor": 5
}
