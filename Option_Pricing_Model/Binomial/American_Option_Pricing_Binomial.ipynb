{
 "cells": [
  {
   "cell_type": "markdown",
   "id": "4715d3fd-6d9f-41aa-b62a-78f9f90ce09b",
   "metadata": {},
   "source": [
    "# American Put Options with the Binomial Asset Pricing Model\n",
    "Implementation of a simple slow and fast binomial pricing model in python. We will treat binomial tree as a network with nodes (i,j) with i representing the time steps and j representing the number of ordered price outcome (lowest - or bottom of tree - to highest).\r\n",
    "\r\n",
    "american_tree_slow\r\n",
    "american_tree_fast"
   ]
  },
  {
   "cell_type": "code",
   "execution_count": 2,
   "id": "164a790e-0b0d-459e-a350-e8168f9eea78",
   "metadata": {},
   "outputs": [],
   "source": [
    "import numpy as np"
   ]
  },
  {
   "cell_type": "markdown",
   "id": "5133c249-1f3b-4f2a-a6ad-1c4b2e4b6775",
   "metadata": {},
   "source": [
    "## Generic timing wrapper function\n",
    "We will use this to benchmark the two binomial models"
   ]
  },
  {
   "cell_type": "code",
   "execution_count": 4,
   "id": "68dd44e5-6a1a-42a7-9524-b6b51b3117ab",
   "metadata": {},
   "outputs": [],
   "source": [
    "from functools import wraps\n",
    "from time import time\n",
    "\n",
    "def timing(f):\n",
    "    @wraps(f)\n",
    "    def wrap(*args, **kw):\n",
    "        ts = time()\n",
    "        result = f(*args, **kw)\n",
    "        te = time()\n",
    "        print('func:%r args:[%r, %r] took: %2.4f sec' % \\\n",
    "          (f.__name__, args, kw, te-ts))\n",
    "        return result\n",
    "    return wrap"
   ]
  },
  {
   "cell_type": "markdown",
   "id": "fc70a77b-6794-4f85-8db3-0175311e281f",
   "metadata": {},
   "source": [
    "## American Option Characteristics"
   ]
  },
  {
   "cell_type": "code",
   "execution_count": 6,
   "id": "3539bf87-5d64-47f7-88ce-a960fd3f07ff",
   "metadata": {},
   "outputs": [],
   "source": [
    "# Initialise parameters\n",
    "S0 = 100      # initial stock price\n",
    "K = 100       # strike price\n",
    "T = 1         # time to maturity in years\n",
    "r = 0.06      # annual risk-free rate\n",
    "N = 3         # number of time steps\n",
    "u = 1.1       # up-factor in binomial models\n",
    "d = 1/u       # ensure recombining tree\n",
    "opttype = 'P' # Option Type 'C' or 'P'"
   ]
  },
  {
   "cell_type": "markdown",
   "id": "34bfac00-4522-401c-b47a-0cb5380e39b4",
   "metadata": {},
   "source": [
    "## American Tree (using loops and arrays)\n",
    "Here we will use for loops to iterate through nodes j at each time step i."
   ]
  },
  {
   "cell_type": "code",
   "execution_count": 8,
   "id": "04d950d3-a764-4ce3-b7d1-1d10eeb53e06",
   "metadata": {},
   "outputs": [
    {
     "name": "stdout",
     "output_type": "stream",
     "text": [
      "func:'american_tree' args:[(100, 1, 100, 0.06, 3, 1.1, 0.9090909090909091), {'opttype': 'P'}] took: 0.0000 sec\n"
     ]
    },
    {
     "data": {
      "text/plain": [
       "4.654588754602527"
      ]
     },
     "execution_count": 8,
     "metadata": {},
     "output_type": "execute_result"
    }
   ],
   "source": [
    "@timing\n",
    "def american_tree(K,T,S0,r,N,u,d,opttype='P'):\n",
    "    #precompute values\n",
    "    dt = T/N\n",
    "    q = (np.exp(r*dt) - d)/(u-d)\n",
    "    disc = np.exp(-r*dt)\n",
    "\n",
    "    # initialise stock prices at maturity\n",
    "    S = np.zeros(N+1)\n",
    "    for j in range(0, N+1):\n",
    "        S[j] = S0 * u**j * d**(N-j)\n",
    "\n",
    "    # option payoff\n",
    "    C = np.zeros(N+1)\n",
    "    for j in range(0, N+1):\n",
    "        if opttype == 'P':\n",
    "            C[j] = max(0, K - S[j])\n",
    "        else:\n",
    "            C[j] = max(0, S[j] - K)\n",
    "\n",
    "    # backward recursion through the tree\n",
    "    for i in np.arange(N-1,-1,-1):\n",
    "        for j in range(0,i+1):\n",
    "            S = S0 * u**j * d**(i-j)\n",
    "            C[j] = disc * ( q*C[j+1] + (1-q)*C[j] )\n",
    "            if opttype == 'P':\n",
    "                C[j] = max(C[j], K - S)\n",
    "            else:\n",
    "                C[j] = max(C[j], S - K)\n",
    "\n",
    "    return C[0]\n",
    "\n",
    "american_tree(K,T,S0,r,N,u,d,opttype='P')"
   ]
  },
  {
   "cell_type": "markdown",
   "id": "fdf3d651-b839-4547-bc94-b5e376c2a6e2",
   "metadata": {},
   "source": [
    "## American Tree (vectorize)\n",
    "Now we will vectorise out code using numpy arrays instead of for loops through j nodes."
   ]
  },
  {
   "cell_type": "code",
   "execution_count": 10,
   "id": "6fb5c671-2ddf-40a4-9905-cf23062d593d",
   "metadata": {},
   "outputs": [
    {
     "name": "stdout",
     "output_type": "stream",
     "text": [
      "func:'american_tree2' args:[(100, 1, 100, 0.06, 3, 1.1, 0.9090909090909091), {'opttype': 'P'}] took: 0.0000 sec\n"
     ]
    },
    {
     "data": {
      "text/plain": [
       "4.654588754602527"
      ]
     },
     "execution_count": 10,
     "metadata": {},
     "output_type": "execute_result"
    }
   ],
   "source": [
    "@timing\n",
    "def american_tree2(K,T,S0,r,N,u,d,opttype='P'):\n",
    "    #precompute values\n",
    "    dt = T/N\n",
    "    q = (np.exp(r*dt) - d)/(u-d)\n",
    "    disc = np.exp(-r*dt)\n",
    "\n",
    "    # initialise stock prices at maturity\n",
    "    S = S0 * d**(np.arange(N,-1,-1)) * u**(np.arange(0,N+1,1))\n",
    "\n",
    "    # option payoff\n",
    "    if opttype == 'P':\n",
    "        C = np.maximum(0, K - S)\n",
    "    else:\n",
    "        C = np.maximum(0, S - K)\n",
    "\n",
    "    # backward recursion through the tree\n",
    "    for i in np.arange(N-1,-1,-1):\n",
    "        S = S0 * d**(np.arange(i,-1,-1)) * u**(np.arange(0,i+1,1))\n",
    "        C[:i+1] = disc * ( q*C[1:i+2] + (1-q)*C[0:i+1] )\n",
    "        C = C[:-1]\n",
    "        if opttype == 'P':\n",
    "            C = np.maximum(C, K - S)\n",
    "        else:\n",
    "            C = np.maximum(C, S - K)\n",
    "\n",
    "    return C[0]\n",
    "\n",
    "american_tree2(K,T,S0,r,N,u,d,opttype='P')"
   ]
  },
  {
   "cell_type": "markdown",
   "id": "d6d34e42-37fe-4774-a2d2-4fee014a56d7",
   "metadata": {},
   "source": [
    "## Binomial Tree Slow vs Fast\n",
    "Now we will compare runtimes for slow vs fast. Ignore option price changes as this is impacted with changing the time steps and keeping the u and d factors the same."
   ]
  },
  {
   "cell_type": "code",
   "execution_count": 12,
   "id": "ae7e5a10-9d42-495c-bb1b-bcec31d34981",
   "metadata": {},
   "outputs": [
    {
     "name": "stdout",
     "output_type": "stream",
     "text": [
      "func:'american_tree' args:[(100, 1, 100, 0.06, 3, 1.1, 0.9090909090909091), {'opttype': 'P'}] took: 0.0000 sec\n",
      "func:'american_tree2' args:[(100, 1, 100, 0.06, 3, 1.1, 0.9090909090909091), {'opttype': 'P'}] took: 0.0000 sec\n",
      "func:'american_tree' args:[(100, 1, 100, 0.06, 50, 1.1, 0.9090909090909091), {'opttype': 'P'}] took: 0.0040 sec\n",
      "func:'american_tree2' args:[(100, 1, 100, 0.06, 50, 1.1, 0.9090909090909091), {'opttype': 'P'}] took: 0.0010 sec\n",
      "func:'american_tree' args:[(100, 1, 100, 0.06, 100, 1.1, 0.9090909090909091), {'opttype': 'P'}] took: 0.0140 sec\n",
      "func:'american_tree2' args:[(100, 1, 100, 0.06, 100, 1.1, 0.9090909090909091), {'opttype': 'P'}] took: 0.0020 sec\n",
      "func:'american_tree' args:[(100, 1, 100, 0.06, 1000, 1.1, 0.9090909090909091), {'opttype': 'P'}] took: 1.3338 sec\n",
      "func:'american_tree2' args:[(100, 1, 100, 0.06, 1000, 1.1, 0.9090909090909091), {'opttype': 'P'}] took: 0.0440 sec\n",
      "func:'american_tree' args:[(100, 1, 100, 0.06, 5000, 1.1, 0.9090909090909091), {'opttype': 'P'}] took: 33.2469 sec\n",
      "func:'american_tree2' args:[(100, 1, 100, 0.06, 5000, 1.1, 0.9090909090909091), {'opttype': 'P'}] took: 0.7693 sec\n"
     ]
    }
   ],
   "source": [
    "for N in [3,50, 100, 1000, 5000]:\n",
    "    american_tree(K,T,S0,r,N,u,d,opttype='P')\n",
    "    american_tree2(K,T,S0,r,N,u,d,opttype='P')"
   ]
  },
  {
   "cell_type": "code",
   "execution_count": null,
   "id": "05fa0aed-e2fa-42c0-bb87-6d28e7f1dcda",
   "metadata": {},
   "outputs": [],
   "source": []
  }
 ],
 "metadata": {
  "kernelspec": {
   "display_name": "Python 3 (ipykernel)",
   "language": "python",
   "name": "python3"
  },
  "language_info": {
   "codemirror_mode": {
    "name": "ipython",
    "version": 3
   },
   "file_extension": ".py",
   "mimetype": "text/x-python",
   "name": "python",
   "nbconvert_exporter": "python",
   "pygments_lexer": "ipython3",
   "version": "3.12.4"
  }
 },
 "nbformat": 4,
 "nbformat_minor": 5
}
